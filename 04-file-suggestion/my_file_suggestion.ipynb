{
 "cells": [
  {
   "cell_type": "markdown",
   "metadata": {},
   "source": [
    "# Lesson 5 - File Suggestions"
   ]
  },
  {
   "cell_type": "markdown",
   "metadata": {
    "id": "Np0plMPXRvoq"
   },
   "source": [
    "In this lesson, you will design an agent that can read the user goal, then use tools to evaluate\n",
    "available files to suggest relevant data sources.\n",
    "\n",
    "You'll learn:\n",
    "- how memory helps coordinate agent tasks\n",
    "- how tools can be be used to access the environment\n",
    "- how to trust, but verify inside of tools"
   ]
  },
  {
   "cell_type": "markdown",
   "metadata": {},
   "source": [
    "## 5.1. Agent"
   ]
  },
  {
   "cell_type": "markdown",
   "metadata": {},
   "source": [
    "\n",
    "<img src=\"images/entire_solution.png\" width=\"500\">\n",
    "\n",
    "The File Suggestion agent is a tool-use agent that suggests files to use for import, based on the approved user goal from the previous lesson.\n",
    "\n",
    "\n",
    "- Input: `approved_user_goal`, a dictionary pairing a kind of graph with a description of the purpose of the graph.\n",
    "- Output: `approved_files`, a list of files that have been approved for import.\n",
    "- Tools: `get_approved_user_goal`, `list_import_files`, `sample_file`, `set_suggested_files`, `approve_suggested_files`"
   ]
  },
  {
   "cell_type": "markdown",
   "metadata": {},
   "source": [
    "## 5.2. Setup"
   ]
  },
  {
   "cell_type": "markdown",
   "metadata": {},
   "source": [
    "The usual import of needed libraries, loading of environment variables, and connection to Neo4j."
   ]
  },
  {
   "cell_type": "code",
   "execution_count": 1,
   "metadata": {
    "height": 472
   },
   "outputs": [
    {
     "name": "stdout",
     "output_type": "stream",
     "text": [
      "Libraries imported.\n"
     ]
    }
   ],
   "source": [
    "# Import necessary libraries\n",
    "import os\n",
    "from pathlib import Path\n",
    "\n",
    "from itertools import islice\n",
    "\n",
    "from google.adk.agents import Agent\n",
    "from google.adk.models.lite_llm import LiteLlm # For OpenAI support\n",
    "from google.adk.sessions import InMemorySessionService\n",
    "from google.adk.runners import Runner\n",
    "from google.adk.tools import ToolContext\n",
    "from google.genai import types # For creating message Content/Parts\n",
    "\n",
    "# For type hints\n",
    "from typing import Dict, Any, List\n",
    "\n",
    "# Convenience libraries for working with Neo4j inside of Google ADK\n",
    "from neo4j_for_adk import graphdb, tool_success, tool_error\n",
    "\n",
    "import warnings\n",
    "# Ignore all warnings\n",
    "warnings.filterwarnings(\"ignore\")\n",
    "\n",
    "import logging\n",
    "logging.basicConfig(level=logging.CRITICAL)\n",
    "\n",
    "print(\"Libraries imported.\")"
   ]
  },
  {
   "cell_type": "code",
   "execution_count": 22,
   "metadata": {
    "height": 166
   },
   "outputs": [
    {
     "name": "stdout",
     "output_type": "stream",
     "text": [
      "ModelResponse(id='AKLTaJvTEqnGnsEPo7Gn6As', created=1758700029, model='gemini-2.5-flash', object='chat.completion', system_fingerprint=None, choices=[Choices(finish_reason='stop', index=0, message=Message(content=\"Yes, I am! I'm always ready to help and answer your questions.\\n\\nWhat's on your mind?\", role='assistant', tool_calls=None, function_call=None, provider_specific_fields=None))], usage=Usage(completion_tokens=443, prompt_tokens=5, total_tokens=448, completion_tokens_details=CompletionTokensDetailsWrapper(accepted_prediction_tokens=None, audio_tokens=None, reasoning_tokens=418, rejected_prediction_tokens=None, text_tokens=25), prompt_tokens_details=PromptTokensDetailsWrapper(audio_tokens=None, cached_tokens=None, text_tokens=5, image_tokens=None)), vertex_ai_grounding_metadata=[], vertex_ai_url_context_metadata=[], vertex_ai_safety_results=[], vertex_ai_citation_metadata=[])\n"
     ]
    }
   ],
   "source": [
    "# --- Define Model Constants for easier use ---\n",
    "# MODEL_GPT_4O = \"openai/gpt-4o\"\n",
    "# llm = LiteLlm(model=MODEL_GPT_4O)\n",
    "\n",
    "model_id = \"ollama/gemma3:12b\"\n",
    "model_id = \"ollama/gemma3\"\n",
    "model_id = \"ollama/llama3.1:8b-instruct-q8_0\"\n",
    "model_id = \"gemini/gemini-2.5-flash\"\n",
    "\n",
    "llm = LiteLlm(model=model_id)\n",
    "\n",
    "# Test LLM with a direct call\n",
    "print(llm.llm_client.completion(model=llm.model, messages=[{\"role\": \"user\", \"content\": \"Are you ready?\"}], tools=[]))\n",
    "\n",
    "# print(\"\\nOpenAI is ready.\")"
   ]
  },
  {
   "cell_type": "markdown",
   "metadata": {},
   "source": [
    "## 5.3. Define the File Suggestion Agent"
   ]
  },
  {
   "cell_type": "markdown",
   "metadata": {},
   "source": [
    "### 5.3.1. Agent Instructions"
   ]
  },
  {
   "cell_type": "code",
   "execution_count": 23,
   "metadata": {
    "height": 404
   },
   "outputs": [],
   "source": [
    "file_suggestion_agent_instruction = \"\"\"\n",
    "You are a constructive critic AI reviewing a list of files. Your goal is to suggest relevant files\n",
    "for constructing a knowledge graph.\n",
    "\n",
    "**Task:**\n",
    "Review the file list for relevance to the kind of graph and description specified in the approved user goal. \n",
    "\n",
    "For any file that you're not sure about, use the 'sample_file' tool to get \n",
    "a better understanding of the file contents. \n",
    "\n",
    "Only consider structured data files like CSV or JSON.\n",
    "\n",
    "Prepare for the task:\n",
    "- use the 'get_approved_user_goal' tool to get the approved user goal\n",
    "\n",
    "Think carefully, repeating these steps until finished:\n",
    "1. list available files using the 'list_available_files' tool\n",
    "2. evaluate the relevance of each file, then record the list of suggested files using the 'set_suggested_files' tool\n",
    "3. use the 'get_suggested_files' tool to get the list of suggested files\n",
    "4. ask the user to approve the set of suggested files\n",
    "5. If the user has feedback, go back to step 1 with that feedback in mind\n",
    "6. If approved, use the 'approve_suggested_files' tool to record the approval\n",
    "\"\"\""
   ]
  },
  {
   "cell_type": "markdown",
   "metadata": {},
   "source": [
    "### 5.3.2 Tool Definitions"
   ]
  },
  {
   "cell_type": "code",
   "execution_count": 24,
   "metadata": {
    "height": 64
   },
   "outputs": [],
   "source": [
    "# import tools defined in previous lesson\n",
    "from tools import get_approved_user_goal\n",
    "# from helper import get_neo4j_import_dir\n",
    "\n",
    "DATA_PATH = \"data\""
   ]
  },
  {
   "cell_type": "code",
   "execution_count": 25,
   "metadata": {
    "height": 555
   },
   "outputs": [],
   "source": [
    "# Tool: List Import Files\n",
    "\n",
    "# this constant will be used as the key for storing the file list in the tool context state\n",
    "ALL_AVAILABLE_FILES = \"all_available_files\"\n",
    "\n",
    "def list_available_files(tool_context:ToolContext) -> dict:\n",
    "    f\"\"\"Lists files available for knowledge graph construction.\n",
    "    All files are relative to the import directory.\n",
    "\n",
    "    Returns:\n",
    "        dict: A dictionary containing metadata about the content.\n",
    "                Includes a 'status' key ('success' or 'error').\n",
    "                If 'success', includes a {ALL_AVAILABLE_FILES} key with list of file names.\n",
    "                If 'error', includes an 'error_message' key.\n",
    "                The 'error_message' may have instructions about how to handle the error.\n",
    "    \"\"\"\n",
    "    # get the import dir using the helper function\n",
    "    import_dir = Path(DATA_PATH)\n",
    "\n",
    "    # get a list of relative file names, so files must be rooted at the import dir\n",
    "    file_names = [str(x.relative_to(import_dir)) \n",
    "                 for x in import_dir.rglob(\"*\") \n",
    "                 if x.is_file()]\n",
    "\n",
    "    # save the list to state so we can inspect it later\n",
    "    tool_context.state[ALL_AVAILABLE_FILES] = file_names\n",
    "\n",
    "    return tool_success(ALL_AVAILABLE_FILES, file_names)"
   ]
  },
  {
   "cell_type": "code",
   "execution_count": 26,
   "metadata": {},
   "outputs": [
    {
     "data": {
      "text/plain": [
       " hello:20"
      ]
     },
     "execution_count": 26,
     "metadata": {},
     "output_type": "execute_result"
    }
   ],
   "source": [
    "from dataclasses import dataclass, field\n",
    "from collections import defaultdict\n",
    "\n",
    "class MyState:\n",
    "    state: defaultdict = defaultdict()\n",
    "    def __repr__(self) -> str:\n",
    "        rsp = \" \"\n",
    "        for key, value in self.state.items():\n",
    "            if isinstance(value, list):\n",
    "                rsp += str(key) + \":\" + \"\\n\".join(value) + \"\\n\"\n",
    "            else:\n",
    "                rsp += str(key) + \":\" + str(value) + \"\\n\" \n",
    "        return rsp\n",
    "    \n",
    "my_tool_ctx = MyState()\n",
    "my_tool_ctx.state[\"hello\"] = 20\n",
    "my_tool_ctx\n"
   ]
  },
  {
   "cell_type": "code",
   "execution_count": 27,
   "metadata": {},
   "outputs": [
    {
     "data": {
      "text/plain": [
       "{'status': 'success',\n",
       " 'all_available_files': ['products.csv',\n",
       "  'parts.csv',\n",
       "  'suppliers.csv',\n",
       "  'assemblies.csv',\n",
       "  'part_supplier_mapping.csv',\n",
       "  'product_reviews/norrkoping_nightstand_reviews.md',\n",
       "  'product_reviews/jonkoping_coffee_table_reviews.md',\n",
       "  'product_reviews/orebro_lamp_reviews.md',\n",
       "  'product_reviews/stockholm_chair_reviews.md',\n",
       "  'product_reviews/vasteras_bookshelf_reviews.md',\n",
       "  'product_reviews/malmo_desk_reviews.md',\n",
       "  'product_reviews/linkoping_bed_reviews.md',\n",
       "  'product_reviews/gothenburg_table_reviews.md',\n",
       "  'product_reviews/helsingborg_dresser_reviews.md',\n",
       "  'product_reviews/uppsala_sofa_reviews.md']}"
      ]
     },
     "execution_count": 27,
     "metadata": {},
     "output_type": "execute_result"
    }
   ],
   "source": [
    "list_available_files(my_tool_ctx)"
   ]
  },
  {
   "cell_type": "code",
   "execution_count": 28,
   "metadata": {
    "height": 725
   },
   "outputs": [],
   "source": [
    "# Tool: Sample File\n",
    "# This is a simple file reading tool that only works on files from the import directory\n",
    "def sample_file(file_path: str, tool_context: ToolContext) -> dict:\n",
    "    \"\"\"Samples a file by reading its content as text.\n",
    "    \n",
    "    Treats any file as text and reads up to a maximum of 100 lines.\n",
    "    \n",
    "    Args:\n",
    "      file_path: file to sample, relative to the import directory\n",
    "      \n",
    "    Returns:\n",
    "        dict: A dictionary containing metadata about the content,\n",
    "            along with a sampling of the file.\n",
    "            Includes a 'status' key ('success' or 'error').\n",
    "            If 'success', includes a 'content' key with textual file content.\n",
    "            If 'error', includes an 'error_message' key.\n",
    "            The 'error_message' may have instructions about how to handle the error.\n",
    "    \"\"\"\n",
    "    # Trust, but verify. The agent may invent absolute file paths. \n",
    "    if Path(file_path).is_absolute():\n",
    "        return tool_error(\"File path must be relative to the import directory. Make sure the file is from the list of available files.\")\n",
    "    \n",
    "    import_dir = Path(DATA_PATH)\n",
    "\n",
    "    # create the full path by extending from the import_dir\n",
    "    full_path_to_file = import_dir / file_path\n",
    "    \n",
    "    # of course, _that_ may not exist\n",
    "    if not full_path_to_file.exists():\n",
    "        return tool_error(f\"File does not exist in import directory. Make sure {file_path} is from the list of available files.\")\n",
    "    \n",
    "    try:\n",
    "        # Treat all files as text\n",
    "        with open(full_path_to_file, 'r', encoding='utf-8') as file:\n",
    "            # Read up to 100 lines\n",
    "            lines = list(islice(file, 100))\n",
    "            content = ''.join(lines)\n",
    "            return tool_success(\"content\", content)\n",
    "    \n",
    "    except Exception as e:\n",
    "        return tool_error(f\"Error reading or processing file {file_path}: {e}\")"
   ]
  },
  {
   "cell_type": "code",
   "execution_count": 29,
   "metadata": {},
   "outputs": [
    {
     "data": {
      "text/plain": [
       "{'status': 'success',\n",
       " 'content': 'part_id,part_name,quantity,assembly_id\\nS-1074,Drawer Front,1,A-1062\\nS-1075,Drawer Bottom,1,A-1062\\nS-1076,Drawer Sides,2,A-1062\\nS-1077,Drawer Back,1,A-1062\\nS-1078,Drawer Rails,2,A-1062\\nS-1079,Drawer Handle,1,A-1062\\nS-1080,Screws,8,A-1062\\nS-1081,Drawer Front,1,A-1070\\nS-1082,Drawer Bottom,1,A-1070\\nS-1083,Drawer Sides,2,A-1070\\nS-1084,Drawer Back,1,A-1070\\nS-1085,Drawer Rails,2,A-1070\\nS-1086,Screws,8,A-1070\\nS-1087,Headboard Panel,1,A-1048\\nS-1088,Headboard Frame,1,A-1048\\nS-1089,Decorative Trim,1,A-1048\\nS-1090,Mounting Brackets,2,A-1048\\nS-1091,Screws,12,A-1048\\nS-1092,Seat Base,1,A-1037\\nS-1093,Foam Padding,1,A-1037\\nS-1094,Fabric Cover,1,A-1037\\nS-1095,Mounting Brackets,4,A-1037\\nS-1096,Screws,8,A-1037\\nS-1097,Foam Insert,1,A-1010\\nS-1098,Cushion Cover,1,A-1010\\nS-1099,Zipper,1,A-1010\\nS-1100,Batting,1,A-1010\\nS-1101,Base Frame,1,A-1012\\nS-1102,Back Frame,1,A-1012\\nS-1103,Side Frames,2,A-1012\\nS-1104,Support Slats,12,A-1012\\nS-1105,Corner Brackets,4,A-1012\\nS-1106,Screws,32,A-1012\\nS-1107,Back Panel,1,A-1038\\nS-1108,Foam Padding,1,A-1038\\nS-1109,Fabric Cover,1,A-1038\\nS-1110,Support Frame,1,A-1038\\nS-1111,Screws,6,A-1038\\nS-1112,Foam Insert,1,A-1011\\nS-1113,Cushion Cover,1,A-1011\\nS-1114,Zipper,1,A-1011\\nS-1115,Batting,1,A-1011\\nS-1116,Wood Panel,1,A-1067\\nS-1117,Edge Banding,1,A-1067\\nS-1118,Shelf Support Holes,10,A-1067\\nS-1119,Mounting Brackets,2,A-1067\\nS-1120,Wood Panels,3,A-1055\\nS-1121,Edge Banding,1,A-1055\\nS-1122,Reinforcement Strips,2,A-1055\\nS-1123,Wood Glue,1,A-1055\\nS-1124,Wooden Slat,1,A-1051\\nS-1125,Fabric Sleeve,1,A-1051\\nS-1126,Cable Tray,1,A-1064\\nS-1127,Cable Clips,4,A-1064\\nS-1128,Zip Ties,5,A-1064\\nS-1129,Adhesive Pads,2,A-1064\\nS-1130,Shade Frame,1,A-1033\\nS-1131,Shade Fabric,1,A-1033\\nS-1132,Diffuser,1,A-1033\\nS-1133,Mounting Ring,1,A-1033\\nS-1134,Wooden Slat,1,A-1051\\nS-1135,Fabric Sleeve,1,A-1051\\nS-1136,Wooden Slat,1,A-1051\\nS-1137,Fabric Sleeve,1,A-1051\\nS-1138,Wooden Slat,1,A-1051\\nS-1139,Fabric Sleeve,1,A-1051\\nS-1140,Wooden Slat,1,A-1051\\nS-1141,Fabric Sleeve,1,A-1051\\nS-1142,Wooden Slat,1,A-1051\\nS-1143,Fabric Sleeve,1,A-1051\\nS-1144,Wooden Slat,1,A-1051\\nS-1145,Fabric Sleeve,1,A-1051\\nS-1146,Wooden Slat,1,A-1051\\nS-1147,Fabric Sleeve,1,A-1051\\nS-1148,Wooden Slat,1,A-1051\\nS-1149,Fabric Sleeve,1,A-1051\\nS-1150,Wooden Slat,1,A-1051\\nS-1151,Fabric Sleeve,1,A-1051\\nS-1152,Wooden Slat,1,A-1051\\nS-1153,Fabric Sleeve,1,A-1051\\nS-1154,Wooden Slat,1,A-1051\\nS-1155,Fabric Sleeve,1,A-1051\\nS-1156,Wooden Slat,1,A-1051\\nS-1157,Fabric Sleeve,1,A-1051\\nS-1158,Wooden Slat,1,A-1051\\nS-1159,Fabric Sleeve,1,A-1051\\nS-1160,Wooden Slat,1,A-1051\\nS-1161,Fabric Sleeve,1,A-1051'}"
      ]
     },
     "execution_count": 29,
     "metadata": {},
     "output_type": "execute_result"
    }
   ],
   "source": [
    "sample_file(\"parts.csv\", my_tool_ctx)"
   ]
  },
  {
   "cell_type": "code",
   "execution_count": 30,
   "metadata": {},
   "outputs": [
    {
     "data": {
      "text/plain": [
       " hello:20\n",
       "all_available_files:products.csv\n",
       "parts.csv\n",
       "suppliers.csv\n",
       "assemblies.csv\n",
       "part_supplier_mapping.csv\n",
       "product_reviews/norrkoping_nightstand_reviews.md\n",
       "product_reviews/jonkoping_coffee_table_reviews.md\n",
       "product_reviews/orebro_lamp_reviews.md\n",
       "product_reviews/stockholm_chair_reviews.md\n",
       "product_reviews/vasteras_bookshelf_reviews.md\n",
       "product_reviews/malmo_desk_reviews.md\n",
       "product_reviews/linkoping_bed_reviews.md\n",
       "product_reviews/gothenburg_table_reviews.md\n",
       "product_reviews/helsingborg_dresser_reviews.md\n",
       "product_reviews/uppsala_sofa_reviews.md"
      ]
     },
     "execution_count": 30,
     "metadata": {},
     "output_type": "execute_result"
    }
   ],
   "source": [
    "my_tool_ctx"
   ]
  },
  {
   "cell_type": "code",
   "execution_count": 31,
   "metadata": {
    "height": 540
   },
   "outputs": [],
   "source": [
    "# Tool: Set/Get suggested files\n",
    "SUGGESTED_FILES = \"suggested_files\"\n",
    "\n",
    "def set_suggested_files(suggest_files:List[str], tool_context:ToolContext) -> Dict[str, Any]:\n",
    "    \"\"\"Set the suggested files to be used for data import.\n",
    "\n",
    "    Args:\n",
    "        suggest_files (List[str]): List of file paths to suggest\n",
    "\n",
    "    Returns:\n",
    "        Dict[str, Any]: A dictionary containing metadata about the content.\n",
    "                Includes a 'status' key ('success' or 'error').\n",
    "                If 'success', includes a {SUGGESTED_FILES} key with list of file names.\n",
    "                If 'error', includes an 'error_message' key.\n",
    "                The 'error_message' may have instructions about how to handle the error.\n",
    "    \"\"\"\n",
    "    tool_context.state[SUGGESTED_FILES] = suggest_files\n",
    "    return tool_success(SUGGESTED_FILES, suggest_files)\n",
    "\n",
    "# Helps encourage the LLM to first set the suggested files.\n",
    "# This is an important strategy for maintaining consistency through defined values.\n",
    "def get_suggested_files(tool_context:ToolContext) -> Dict[str, Any]:\n",
    "    \"\"\"Get the files to be used for data import.\n",
    "\n",
    "    Returns:\n",
    "        Dict[str, Any]: A dictionary containing metadata about the content.\n",
    "                Includes a 'status' key ('success' or 'error').\n",
    "                If 'success', includes a {SUGGESTED_FILES} key with list of file names.\n",
    "                If 'error', includes an 'error_message' key.\n",
    "    \"\"\"\n",
    "    return tool_success(SUGGESTED_FILES, tool_context.state[SUGGESTED_FILES])"
   ]
  },
  {
   "cell_type": "code",
   "execution_count": 32,
   "metadata": {},
   "outputs": [
    {
     "data": {
      "text/plain": [
       "{'status': 'success', 'suggested_files': ['parts.csv', 'suppliers.csv']}"
      ]
     },
     "execution_count": 32,
     "metadata": {},
     "output_type": "execute_result"
    }
   ],
   "source": [
    "set_suggested_files([\"parts.csv\",\"suppliers.csv\"], my_tool_ctx)"
   ]
  },
  {
   "cell_type": "code",
   "execution_count": 33,
   "metadata": {},
   "outputs": [
    {
     "data": {
      "text/plain": [
       "{'status': 'success', 'suggested_files': ['parts.csv', 'suppliers.csv']}"
      ]
     },
     "execution_count": 33,
     "metadata": {},
     "output_type": "execute_result"
    }
   ],
   "source": [
    "get_suggested_files(my_tool_ctx)"
   ]
  },
  {
   "cell_type": "code",
   "execution_count": null,
   "metadata": {},
   "outputs": [],
   "source": []
  },
  {
   "cell_type": "code",
   "execution_count": 34,
   "metadata": {
    "height": 268
   },
   "outputs": [],
   "source": [
    "# Tool: Approve Suggested Files\n",
    "# Just like the previous lesson, you'll define a tool which\n",
    "# accepts no arguments and can sanity check before approving.\n",
    "APPROVED_FILES = \"approved_files\"\n",
    "\n",
    "def approve_suggested_files(tool_context:ToolContext) -> Dict[str, Any]:\n",
    "    \"\"\"Approves the {SUGGESTED_FILES} in state for further processing as {APPROVED_FILES}.\n",
    "    \n",
    "    If {SUGGESTED_FILES} is not in state, return an error.\n",
    "    \"\"\"\n",
    "    if SUGGESTED_FILES not in tool_context.state:\n",
    "        return tool_error(\"Current files have not been set. Take no action other than to inform user.\")\n",
    "\n",
    "    tool_context.state[APPROVED_FILES] = tool_context.state[SUGGESTED_FILES]\n",
    "    return tool_success(APPROVED_FILES, tool_context.state[APPROVED_FILES])"
   ]
  },
  {
   "cell_type": "code",
   "execution_count": 35,
   "metadata": {},
   "outputs": [
    {
     "data": {
      "text/plain": [
       "{'status': 'success', 'approved_files': ['parts.csv', 'suppliers.csv']}"
      ]
     },
     "execution_count": 35,
     "metadata": {},
     "output_type": "execute_result"
    }
   ],
   "source": [
    "approve_suggested_files(my_tool_ctx)"
   ]
  },
  {
   "cell_type": "code",
   "execution_count": 36,
   "metadata": {},
   "outputs": [
    {
     "data": {
      "text/plain": [
       "dict_keys(['hello', 'all_available_files', 'suggested_files', 'approved_files'])"
      ]
     },
     "execution_count": 36,
     "metadata": {},
     "output_type": "execute_result"
    }
   ],
   "source": [
    "my_tool_ctx.state.keys()"
   ]
  },
  {
   "cell_type": "code",
   "execution_count": 37,
   "metadata": {
    "height": 98
   },
   "outputs": [],
   "source": [
    "# List of tools for the file suggestion agent\n",
    "file_suggestion_agent_tools = [get_approved_user_goal, list_available_files, sample_file, \n",
    "    set_suggested_files, get_suggested_files,\n",
    "    approve_suggested_files\n",
    "]"
   ]
  },
  {
   "cell_type": "markdown",
   "metadata": {},
   "source": [
    "### 5.3.3. Agent Definition"
   ]
  },
  {
   "cell_type": "code",
   "execution_count": 38,
   "metadata": {
    "height": 200
   },
   "outputs": [
    {
     "name": "stdout",
     "output_type": "stream",
     "text": [
      "Agent 'file_suggestion_agent_v1' created.\n"
     ]
    }
   ],
   "source": [
    "# Finally, construct the agent\n",
    "\n",
    "file_suggestion_agent = Agent(\n",
    "    name=\"file_suggestion_agent_v1\",\n",
    "    model=llm, # defined earlier in a variable\n",
    "    description=\"Helps the user select files to import.\",\n",
    "    instruction=file_suggestion_agent_instruction,\n",
    "    tools=file_suggestion_agent_tools,\n",
    ")\n",
    "\n",
    "print(f\"Agent '{file_suggestion_agent.name}' created.\")"
   ]
  },
  {
   "cell_type": "markdown",
   "metadata": {
    "id": "5zKGVwRkSduA"
   },
   "source": [
    "## 5.4. Interact with the Agent"
   ]
  },
  {
   "cell_type": "markdown",
   "metadata": {},
   "source": [
    "<p style=\"background-color:#f7fff8; padding:15px; border-width:3px; border-color:#e0f0e0; border-style:solid; border-radius:6px\"> 🚨\n",
    "&nbsp; <b>Different Run Results:</b> The output generated by LLMs can vary with each execution due to their stochastic nature. Your results might differ from those shown in the video.</p>"
   ]
  },
  {
   "cell_type": "code",
   "execution_count": 39,
   "metadata": {
    "height": 166,
    "id": "yZJr8lbkSebH"
   },
   "outputs": [],
   "source": [
    "from helper import make_agent_caller\n",
    "\n",
    "file_suggestion_caller = await make_agent_caller(file_suggestion_agent, {\n",
    "    \"approved_user_goal\": {\n",
    "        \"kind_of_graph\": \"supply chain analysis\",\n",
    "        \"description\": \"A multi-level bill of materials for manufactured products, useful for root cause analysis..\"\n",
    "    }   \n",
    "})\n"
   ]
  },
  {
   "cell_type": "code",
   "execution_count": 41,
   "metadata": {
    "height": 251
   },
   "outputs": [
    {
     "name": "stdout",
     "output_type": "stream",
     "text": [
      "\n",
      ">>> User Query: What files can we use for import?\n",
      "<<< Agent Response: I've already suggested a set of files. To proceed, I need your approval for the suggested files.\n",
      "\n",
      "The following files are suggested for building a knowledge graph about supply chain analysis and multi-level bill of materials:\n",
      "\n",
      "*   `products.csv`\n",
      "*   `parts.csv`\n",
      "*   `suppliers.csv`\n",
      "*   `assemblies.csv`\n",
      "*   `part_supplier_mapping.csv`\n",
      "\n",
      "Do you approve of these suggested files?\n",
      "\n",
      "---\n",
      "\n",
      "Available files:  ['products.csv', 'parts.csv', 'suppliers.csv', 'assemblies.csv', 'part_supplier_mapping.csv', 'product_reviews/norrkoping_nightstand_reviews.md', 'product_reviews/jonkoping_coffee_table_reviews.md', 'product_reviews/orebro_lamp_reviews.md', 'product_reviews/stockholm_chair_reviews.md', 'product_reviews/vasteras_bookshelf_reviews.md', 'product_reviews/malmo_desk_reviews.md', 'product_reviews/linkoping_bed_reviews.md', 'product_reviews/gothenburg_table_reviews.md', 'product_reviews/helsingborg_dresser_reviews.md', 'product_reviews/uppsala_sofa_reviews.md']\n",
      "Suggested files:  ['products.csv', 'parts.csv', 'suppliers.csv', 'assemblies.csv', 'part_supplier_mapping.csv']\n"
     ]
    }
   ],
   "source": [
    "# Run the Initial Conversation\n",
    "\n",
    "# nudge the agent to look for files. in the full system, this will be the natural next step\n",
    "await file_suggestion_caller.call(\"What files can we use for import?\")\n",
    "\n",
    "session_end = await file_suggestion_caller.get_session()\n",
    "\n",
    "print(\"\\n---\\n\")\n",
    "\n",
    "# expect that the agent has listed available files\n",
    "print(\"Available files: \", session_end.state[ALL_AVAILABLE_FILES])\n",
    "\n",
    "# the suggested files should be reasonable looking CSV files\n",
    "print(\"Suggested files: \", session_end.state[SUGGESTED_FILES])"
   ]
  },
  {
   "cell_type": "markdown",
   "metadata": {},
   "source": [
    "Look through the transcript, noticing the tool use and final message."
   ]
  },
  {
   "cell_type": "code",
   "execution_count": 42,
   "metadata": {
    "height": 149
   },
   "outputs": [
    {
     "name": "stdout",
     "output_type": "stream",
     "text": [
      "\n",
      ">>> User Query: Yes, let's do it\n",
      "<<< Agent Response: Great! The suggested files have been approved and are ready for further processing.\n",
      "\n",
      "---\n",
      "\n",
      "Approved files:  ['products.csv', 'parts.csv', 'suppliers.csv', 'assemblies.csv', 'part_supplier_mapping.csv']\n"
     ]
    }
   ],
   "source": [
    "# Agree with the file suggestions\n",
    "await file_suggestion_caller.call(\"Yes, let's do it\")\n",
    "\n",
    "session_end = await file_suggestion_caller.get_session()\n",
    "\n",
    "print(\"\\n---\\n\")\n",
    "\n",
    "print(\"Approved files: \", session_end.state[APPROVED_FILES])"
   ]
  },
  {
   "cell_type": "markdown",
   "metadata": {
    "id": "xbUzAGvsmB2a"
   },
   "source": [
    "Congratulations\\! You've now setup the files suggestion agent."
   ]
  },
  {
   "cell_type": "markdown",
   "metadata": {},
   "source": [
    "## 5.5. Optional - Sequence diagram illustrating the workflow of  \"File Suggestion Agent\"  "
   ]
  },
  {
   "cell_type": "markdown",
   "metadata": {},
   "source": [
    "<img src=\"images/file_suggestions_sequence_diagram.png\" width=\"700\">"
   ]
  },
  {
   "cell_type": "markdown",
   "metadata": {},
   "source": []
  }
 ],
 "metadata": {
  "colab": {
   "provenance": [],
   "toc_visible": true
  },
  "kernelspec": {
   "display_name": "neo4j",
   "language": "python",
   "name": "python3"
  },
  "language_info": {
   "codemirror_mode": {
    "name": "ipython",
    "version": 3
   },
   "file_extension": ".py",
   "mimetype": "text/x-python",
   "name": "python",
   "nbconvert_exporter": "python",
   "pygments_lexer": "ipython3",
   "version": "3.10.18"
  }
 },
 "nbformat": 4,
 "nbformat_minor": 4
}
